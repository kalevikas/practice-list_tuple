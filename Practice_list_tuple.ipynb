{
 "cells": [
  {
   "cell_type": "markdown",
   "id": "2b92c33f",
   "metadata": {},
   "source": [
    "**If n is odd, print Weird\n",
    "If n is even and in the inclusive range of 2 to 6, print Not Weird\n",
    "If n is even and in the inclusive range of 6 to 20, print Weird\n",
    "If n is even and greater than 20, print Not Weird**"
   ]
  },
  {
   "cell_type": "code",
   "execution_count": 15,
   "id": "f8d1decf",
   "metadata": {},
   "outputs": [
    {
     "name": "stdout",
     "output_type": "stream",
     "text": [
      "Enter a number: 26\n",
      "Not Weird\n"
     ]
    }
   ],
   "source": [
    "n=int(input(\"Enter a number: \"))\n",
    "if n%3==0:\n",
    "    print(\"Weird\")\n",
    "elif n%2==0 and n in range(2,6):\n",
    "    print(\"Not Weird\")\n",
    "elif n%2==0 and n in range(6,21):\n",
    "    print(\"Weird\")\n",
    "elif n%2==0 and n>20:\n",
    "    print(\"Not Weird\")\n",
    "else:\n",
    "    print(\"odd number\")"
   ]
  },
  {
   "cell_type": "code",
   "execution_count": 9,
   "id": "c3eaa774",
   "metadata": {},
   "outputs": [
    {
     "name": "stdout",
     "output_type": "stream",
     "text": [
      "Enter a number: 8\n",
      "Weird\n"
     ]
    }
   ],
   "source": [
    "n=int(input(\"Enter a number: \"))\n",
    "if n%3==0:\n",
    "    print(\"Weird\")\n",
    "elif n%2==0 and n in range(2,6):\n",
    "    print(\"Not Weird\")\n",
    "elif n%2==0 and n in range(6,21):\n",
    "    print(\"Weird\")\n",
    "elif n%2==0 and n>20:\n",
    "    print(\"Not Weird\")"
   ]
  },
  {
   "cell_type": "code",
   "execution_count": 16,
   "id": "9ffe8d4d",
   "metadata": {},
   "outputs": [
    {
     "data": {
      "text/plain": [
       "5"
      ]
     },
     "execution_count": 16,
     "metadata": {},
     "output_type": "execute_result"
    }
   ],
   "source": [
    "10//2"
   ]
  },
  {
   "cell_type": "code",
   "execution_count": 17,
   "id": "7eaace32",
   "metadata": {},
   "outputs": [
    {
     "data": {
      "text/plain": [
       "0"
      ]
     },
     "execution_count": 17,
     "metadata": {},
     "output_type": "execute_result"
    }
   ],
   "source": [
    "10%2"
   ]
  },
  {
   "cell_type": "code",
   "execution_count": 18,
   "id": "7f9fcf6a",
   "metadata": {},
   "outputs": [
    {
     "data": {
      "text/plain": [
       "1"
      ]
     },
     "execution_count": 18,
     "metadata": {},
     "output_type": "execute_result"
    }
   ],
   "source": [
    "10%3"
   ]
  },
  {
   "cell_type": "code",
   "execution_count": 19,
   "id": "7d05223e",
   "metadata": {},
   "outputs": [
    {
     "data": {
      "text/plain": [
       "1.0"
      ]
     },
     "execution_count": 19,
     "metadata": {},
     "output_type": "execute_result"
    }
   ],
   "source": [
    "float(10%3)"
   ]
  },
  {
   "cell_type": "code",
   "execution_count": 20,
   "id": "ca0749d0",
   "metadata": {},
   "outputs": [
    {
     "data": {
      "text/plain": [
       "15"
      ]
     },
     "execution_count": 20,
     "metadata": {},
     "output_type": "execute_result"
    }
   ],
   "source": [
    "45//3"
   ]
  },
  {
   "cell_type": "code",
   "execution_count": 21,
   "id": "73cdd259",
   "metadata": {},
   "outputs": [
    {
     "data": {
      "text/plain": [
       "22"
      ]
     },
     "execution_count": 21,
     "metadata": {},
     "output_type": "execute_result"
    }
   ],
   "source": [
    "45//2"
   ]
  },
  {
   "cell_type": "markdown",
   "id": "7f2bd679",
   "metadata": {},
   "source": [
    "# List"
   ]
  },
  {
   "cell_type": "markdown",
   "id": "de97d48b",
   "metadata": {},
   "source": [
    "list is collection of int, float, str, list and etc.\n",
    "list can hold any kind of data.\n",
    "list is mutable -> we can modify list.\n",
    "list is supports indexing. By default indexing starts with 0\n",
    "list is also supports slicing -> devide data into small chunk.\n",
    "\n",
    "How to create a list?\n",
    "\n",
    "There are two ways to create a empty list?\n",
    "1] \n",
    "    variable_name = list()\n",
    "    #Here we are create object of list class. This is empty list.\n",
    "2] \n",
    "    varialble_name = []\n",
    "    #Here we are creating list based on syntax. This is empty list."
   ]
  },
  {
   "cell_type": "code",
   "execution_count": 27,
   "id": "2884b44c",
   "metadata": {},
   "outputs": [],
   "source": [
    "num=list()"
   ]
  },
  {
   "cell_type": "code",
   "execution_count": 28,
   "id": "778c0af2",
   "metadata": {},
   "outputs": [
    {
     "data": {
      "text/plain": [
       "[]"
      ]
     },
     "execution_count": 28,
     "metadata": {},
     "output_type": "execute_result"
    }
   ],
   "source": [
    "num"
   ]
  },
  {
   "cell_type": "code",
   "execution_count": 29,
   "id": "1955ca08",
   "metadata": {},
   "outputs": [],
   "source": [
    "num=[1,2,3,4,5,6,4]"
   ]
  },
  {
   "cell_type": "code",
   "execution_count": 30,
   "id": "60875da9",
   "metadata": {},
   "outputs": [
    {
     "data": {
      "text/plain": [
       "list"
      ]
     },
     "execution_count": 30,
     "metadata": {},
     "output_type": "execute_result"
    }
   ],
   "source": [
    "type(num)"
   ]
  },
  {
   "cell_type": "code",
   "execution_count": 31,
   "id": "d308b2e0",
   "metadata": {},
   "outputs": [
    {
     "data": {
      "text/plain": [
       "7"
      ]
     },
     "execution_count": 31,
     "metadata": {},
     "output_type": "execute_result"
    }
   ],
   "source": [
    "len(num)"
   ]
  },
  {
   "cell_type": "markdown",
   "id": "b8721fb5",
   "metadata": {},
   "source": [
    "**Indexing**"
   ]
  },
  {
   "cell_type": "code",
   "execution_count": 32,
   "id": "a1b610ef",
   "metadata": {},
   "outputs": [
    {
     "data": {
      "text/plain": [
       "5"
      ]
     },
     "execution_count": 32,
     "metadata": {},
     "output_type": "execute_result"
    }
   ],
   "source": [
    "num[4]"
   ]
  },
  {
   "cell_type": "code",
   "execution_count": 33,
   "id": "ecf9c40e",
   "metadata": {},
   "outputs": [
    {
     "data": {
      "text/plain": [
       "4"
      ]
     },
     "execution_count": 33,
     "metadata": {},
     "output_type": "execute_result"
    }
   ],
   "source": [
    "num[6]"
   ]
  },
  {
   "cell_type": "code",
   "execution_count": 34,
   "id": "c03cfd53",
   "metadata": {},
   "outputs": [
    {
     "data": {
      "text/plain": [
       "4"
      ]
     },
     "execution_count": 34,
     "metadata": {},
     "output_type": "execute_result"
    }
   ],
   "source": [
    "num[3]"
   ]
  },
  {
   "cell_type": "code",
   "execution_count": 35,
   "id": "b1eaa809",
   "metadata": {},
   "outputs": [
    {
     "data": {
      "text/plain": [
       "[1, 2, 3, 4, 5, 6, 4]"
      ]
     },
     "execution_count": 35,
     "metadata": {},
     "output_type": "execute_result"
    }
   ],
   "source": [
    "num"
   ]
  },
  {
   "cell_type": "code",
   "execution_count": 36,
   "id": "a9e3c801",
   "metadata": {},
   "outputs": [
    {
     "data": {
      "text/plain": [
       "4"
      ]
     },
     "execution_count": 36,
     "metadata": {},
     "output_type": "execute_result"
    }
   ],
   "source": [
    "num[-1]"
   ]
  },
  {
   "cell_type": "code",
   "execution_count": 37,
   "id": "b9b9e394",
   "metadata": {},
   "outputs": [
    {
     "data": {
      "text/plain": [
       "3"
      ]
     },
     "execution_count": 37,
     "metadata": {},
     "output_type": "execute_result"
    }
   ],
   "source": [
    "num[-5]"
   ]
  },
  {
   "cell_type": "markdown",
   "id": "62656dac",
   "metadata": {},
   "source": [
    "***Built in functions of List***"
   ]
  },
  {
   "cell_type": "code",
   "execution_count": 39,
   "id": "12addbd3",
   "metadata": {},
   "outputs": [
    {
     "name": "stdout",
     "output_type": "stream",
     "text": [
      "['__add__', '__class__', '__contains__', '__delattr__', '__delitem__', '__dir__', '__doc__', '__eq__', '__format__', '__ge__', '__getattribute__', '__getitem__', '__gt__', '__hash__', '__iadd__', '__imul__', '__init__', '__init_subclass__', '__iter__', '__le__', '__len__', '__lt__', '__mul__', '__ne__', '__new__', '__reduce__', '__reduce_ex__', '__repr__', '__reversed__', '__rmul__', '__setattr__', '__setitem__', '__sizeof__', '__str__', '__subclasshook__', 'append', 'clear', 'copy', 'count', 'extend', 'index', 'insert', 'pop', 'remove', 'reverse', 'sort']\n"
     ]
    }
   ],
   "source": [
    "print(dir(list))"
   ]
  },
  {
   "cell_type": "code",
   "execution_count": 40,
   "id": "c1b9e05e",
   "metadata": {},
   "outputs": [
    {
     "name": "stdout",
     "output_type": "stream",
     "text": [
      "Help on method_descriptor:\n",
      "\n",
      "append(self, object, /)\n",
      "    Append object to the end of the list.\n",
      "\n"
     ]
    }
   ],
   "source": [
    "help(list.append)"
   ]
  },
  {
   "cell_type": "code",
   "execution_count": 41,
   "id": "a1a3e017",
   "metadata": {},
   "outputs": [
    {
     "data": {
      "text/plain": [
       "[1, 2, 3, 4, 5, 6, 4]"
      ]
     },
     "execution_count": 41,
     "metadata": {},
     "output_type": "execute_result"
    }
   ],
   "source": [
    "num"
   ]
  },
  {
   "cell_type": "code",
   "execution_count": 42,
   "id": "401b1250",
   "metadata": {},
   "outputs": [],
   "source": [
    "num.append(7)"
   ]
  },
  {
   "cell_type": "code",
   "execution_count": 43,
   "id": "980e85ed",
   "metadata": {},
   "outputs": [],
   "source": [
    "num.append(8)"
   ]
  },
  {
   "cell_type": "code",
   "execution_count": 44,
   "id": "7df763de",
   "metadata": {},
   "outputs": [
    {
     "data": {
      "text/plain": [
       "[1, 2, 3, 4, 5, 6, 4, 7, 8]"
      ]
     },
     "execution_count": 44,
     "metadata": {},
     "output_type": "execute_result"
    }
   ],
   "source": [
    "num"
   ]
  },
  {
   "cell_type": "code",
   "execution_count": 45,
   "id": "3a3b89b8",
   "metadata": {},
   "outputs": [
    {
     "name": "stdout",
     "output_type": "stream",
     "text": [
      "Help on method_descriptor:\n",
      "\n",
      "copy(self, /)\n",
      "    Return a shallow copy of the list.\n",
      "\n"
     ]
    }
   ],
   "source": [
    "help(list.copy)"
   ]
  },
  {
   "cell_type": "code",
   "execution_count": 46,
   "id": "55743614",
   "metadata": {},
   "outputs": [],
   "source": [
    "num1=[1,2,3,4,5]"
   ]
  },
  {
   "cell_type": "code",
   "execution_count": 47,
   "id": "64f442fb",
   "metadata": {},
   "outputs": [],
   "source": [
    "num2=[5,6,7,8,9,10]"
   ]
  },
  {
   "cell_type": "code",
   "execution_count": 48,
   "id": "989beffd",
   "metadata": {},
   "outputs": [],
   "source": [
    "num1=num2.copy()"
   ]
  },
  {
   "cell_type": "code",
   "execution_count": 49,
   "id": "f57bb344",
   "metadata": {},
   "outputs": [
    {
     "data": {
      "text/plain": [
       "[5, 6, 7, 8, 9, 10]"
      ]
     },
     "execution_count": 49,
     "metadata": {},
     "output_type": "execute_result"
    }
   ],
   "source": [
    "num1"
   ]
  },
  {
   "cell_type": "code",
   "execution_count": 50,
   "id": "ca34d6ec",
   "metadata": {},
   "outputs": [
    {
     "data": {
      "text/plain": [
       "[5, 6, 7, 8, 9, 10]"
      ]
     },
     "execution_count": 50,
     "metadata": {},
     "output_type": "execute_result"
    }
   ],
   "source": [
    "num2"
   ]
  },
  {
   "cell_type": "code",
   "execution_count": 51,
   "id": "5843b78c",
   "metadata": {},
   "outputs": [],
   "source": [
    "num2.clear()"
   ]
  },
  {
   "cell_type": "code",
   "execution_count": 52,
   "id": "ddff66f8",
   "metadata": {},
   "outputs": [
    {
     "data": {
      "text/plain": [
       "[]"
      ]
     },
     "execution_count": 52,
     "metadata": {},
     "output_type": "execute_result"
    }
   ],
   "source": [
    "num2"
   ]
  },
  {
   "cell_type": "code",
   "execution_count": 53,
   "id": "d80ae7bb",
   "metadata": {},
   "outputs": [
    {
     "data": {
      "text/plain": [
       "[1, 2, 3, 4, 5, 6, 4, 7, 8]"
      ]
     },
     "execution_count": 53,
     "metadata": {},
     "output_type": "execute_result"
    }
   ],
   "source": [
    "num"
   ]
  },
  {
   "cell_type": "code",
   "execution_count": 54,
   "id": "a688b4a3",
   "metadata": {},
   "outputs": [
    {
     "data": {
      "text/plain": [
       "2"
      ]
     },
     "execution_count": 54,
     "metadata": {},
     "output_type": "execute_result"
    }
   ],
   "source": [
    "num.count(4)"
   ]
  },
  {
   "cell_type": "code",
   "execution_count": 55,
   "id": "d69be710",
   "metadata": {},
   "outputs": [
    {
     "data": {
      "text/plain": [
       "1"
      ]
     },
     "execution_count": 55,
     "metadata": {},
     "output_type": "execute_result"
    }
   ],
   "source": [
    "num.count(5)"
   ]
  },
  {
   "cell_type": "code",
   "execution_count": 56,
   "id": "2fc798d8",
   "metadata": {},
   "outputs": [
    {
     "name": "stdout",
     "output_type": "stream",
     "text": [
      "Help on method_descriptor:\n",
      "\n",
      "extend(self, iterable, /)\n",
      "    Extend list by appending elements from the iterable.\n",
      "\n"
     ]
    }
   ],
   "source": [
    "help(list.extend)"
   ]
  },
  {
   "cell_type": "code",
   "execution_count": 59,
   "id": "278d667d",
   "metadata": {},
   "outputs": [],
   "source": [
    "num1=['a','b','c','d','e','f']\n",
    "num2=[1,2,3,4,5,6]\n",
    "num1.extend(num2)"
   ]
  },
  {
   "cell_type": "code",
   "execution_count": 60,
   "id": "5dd807e8",
   "metadata": {},
   "outputs": [
    {
     "data": {
      "text/plain": [
       "['a', 'b', 'c', 'd', 'e', 'f', 1, 2, 3, 4, 5, 6]"
      ]
     },
     "execution_count": 60,
     "metadata": {},
     "output_type": "execute_result"
    }
   ],
   "source": [
    "num1"
   ]
  },
  {
   "cell_type": "code",
   "execution_count": 61,
   "id": "507cd3a6",
   "metadata": {},
   "outputs": [
    {
     "name": "stdout",
     "output_type": "stream",
     "text": [
      "Help on method_descriptor:\n",
      "\n",
      "index(self, value, start=0, stop=9223372036854775807, /)\n",
      "    Return first index of value.\n",
      "    \n",
      "    Raises ValueError if the value is not present.\n",
      "\n"
     ]
    }
   ],
   "source": [
    "help(list.index)"
   ]
  },
  {
   "cell_type": "code",
   "execution_count": 62,
   "id": "a5638af4",
   "metadata": {},
   "outputs": [
    {
     "data": {
      "text/plain": [
       "['a', 'b', 'c', 'd', 'e', 'f', 1, 2, 3, 4, 5, 6]"
      ]
     },
     "execution_count": 62,
     "metadata": {},
     "output_type": "execute_result"
    }
   ],
   "source": [
    "num1"
   ]
  },
  {
   "cell_type": "code",
   "execution_count": 63,
   "id": "30dd553e",
   "metadata": {},
   "outputs": [
    {
     "data": {
      "text/plain": [
       "7"
      ]
     },
     "execution_count": 63,
     "metadata": {},
     "output_type": "execute_result"
    }
   ],
   "source": [
    "num1.index(2)"
   ]
  },
  {
   "cell_type": "code",
   "execution_count": 64,
   "id": "2a27c7ef",
   "metadata": {},
   "outputs": [
    {
     "data": {
      "text/plain": [
       "3"
      ]
     },
     "execution_count": 64,
     "metadata": {},
     "output_type": "execute_result"
    }
   ],
   "source": [
    "num1.index('d')"
   ]
  },
  {
   "cell_type": "code",
   "execution_count": 65,
   "id": "4144378d",
   "metadata": {},
   "outputs": [
    {
     "data": {
      "text/plain": [
       "'d'"
      ]
     },
     "execution_count": 65,
     "metadata": {},
     "output_type": "execute_result"
    }
   ],
   "source": [
    "num1[3]"
   ]
  },
  {
   "cell_type": "code",
   "execution_count": 66,
   "id": "32907013",
   "metadata": {},
   "outputs": [
    {
     "data": {
      "text/plain": [
       "5"
      ]
     },
     "execution_count": 66,
     "metadata": {},
     "output_type": "execute_result"
    }
   ],
   "source": [
    "num1.index('f')"
   ]
  },
  {
   "cell_type": "code",
   "execution_count": 68,
   "id": "1869e0db",
   "metadata": {},
   "outputs": [
    {
     "data": {
      "text/plain": [
       "'f'"
      ]
     },
     "execution_count": 68,
     "metadata": {},
     "output_type": "execute_result"
    }
   ],
   "source": [
    "num1[5]"
   ]
  },
  {
   "cell_type": "code",
   "execution_count": 69,
   "id": "bc7c2db4",
   "metadata": {},
   "outputs": [
    {
     "name": "stdout",
     "output_type": "stream",
     "text": [
      "Help on method_descriptor:\n",
      "\n",
      "insert(self, index, object, /)\n",
      "    Insert object before index.\n",
      "\n"
     ]
    }
   ],
   "source": [
    "help(list.insert)"
   ]
  },
  {
   "cell_type": "code",
   "execution_count": 70,
   "id": "60ae678e",
   "metadata": {},
   "outputs": [
    {
     "data": {
      "text/plain": [
       "['a', 'b', 'c', 'd', 'e', 'f', 1, 2, 3, 4, 5, 6]"
      ]
     },
     "execution_count": 70,
     "metadata": {},
     "output_type": "execute_result"
    }
   ],
   "source": [
    "num1"
   ]
  },
  {
   "cell_type": "code",
   "execution_count": 71,
   "id": "f6f49da2",
   "metadata": {},
   "outputs": [
    {
     "data": {
      "text/plain": [
       "6"
      ]
     },
     "execution_count": 71,
     "metadata": {},
     "output_type": "execute_result"
    }
   ],
   "source": [
    "num1.index(1)"
   ]
  },
  {
   "cell_type": "code",
   "execution_count": 76,
   "id": "a28da296",
   "metadata": {},
   "outputs": [],
   "source": [
    "num1.insert(6,'g')"
   ]
  },
  {
   "cell_type": "code",
   "execution_count": 77,
   "id": "c1b560f9",
   "metadata": {},
   "outputs": [
    {
     "data": {
      "text/plain": [
       "['a', 'b', 'c', 'd', 'e', 'f', 'g', 'f', 1, 2, 3, 4, 5, 6]"
      ]
     },
     "execution_count": 77,
     "metadata": {},
     "output_type": "execute_result"
    }
   ],
   "source": [
    "num1"
   ]
  },
  {
   "cell_type": "code",
   "execution_count": 78,
   "id": "854e3a24",
   "metadata": {},
   "outputs": [],
   "source": [
    "num1.remove(\"f\")"
   ]
  },
  {
   "cell_type": "code",
   "execution_count": 79,
   "id": "3741a579",
   "metadata": {},
   "outputs": [
    {
     "data": {
      "text/plain": [
       "['a', 'b', 'c', 'd', 'e', 'g', 'f', 1, 2, 3, 4, 5, 6]"
      ]
     },
     "execution_count": 79,
     "metadata": {},
     "output_type": "execute_result"
    }
   ],
   "source": [
    "num1"
   ]
  },
  {
   "cell_type": "code",
   "execution_count": 80,
   "id": "5d93b50e",
   "metadata": {},
   "outputs": [
    {
     "name": "stdout",
     "output_type": "stream",
     "text": [
      "Help on method_descriptor:\n",
      "\n",
      "reverse(self, /)\n",
      "    Reverse *IN PLACE*.\n",
      "\n"
     ]
    }
   ],
   "source": [
    "help(list.reverse)"
   ]
  },
  {
   "cell_type": "code",
   "execution_count": 82,
   "id": "e67850e4",
   "metadata": {},
   "outputs": [],
   "source": [
    "num1.reverse()"
   ]
  },
  {
   "cell_type": "code",
   "execution_count": 83,
   "id": "81277a7c",
   "metadata": {},
   "outputs": [
    {
     "data": {
      "text/plain": [
       "[6, 5, 4, 3, 2, 1, 'f', 'g', 'e', 'd', 'c', 'b', 'a']"
      ]
     },
     "execution_count": 83,
     "metadata": {},
     "output_type": "execute_result"
    }
   ],
   "source": [
    "num1"
   ]
  },
  {
   "cell_type": "code",
   "execution_count": 84,
   "id": "845819e9",
   "metadata": {},
   "outputs": [
    {
     "name": "stdout",
     "output_type": "stream",
     "text": [
      "['__add__', '__class__', '__contains__', '__delattr__', '__delitem__', '__dir__', '__doc__', '__eq__', '__format__', '__ge__', '__getattribute__', '__getitem__', '__gt__', '__hash__', '__iadd__', '__imul__', '__init__', '__init_subclass__', '__iter__', '__le__', '__len__', '__lt__', '__mul__', '__ne__', '__new__', '__reduce__', '__reduce_ex__', '__repr__', '__reversed__', '__rmul__', '__setattr__', '__setitem__', '__sizeof__', '__str__', '__subclasshook__', 'append', 'clear', 'copy', 'count', 'extend', 'index', 'insert', 'pop', 'remove', 'reverse', 'sort']\n"
     ]
    }
   ],
   "source": [
    "print(dir(list))"
   ]
  },
  {
   "cell_type": "code",
   "execution_count": 85,
   "id": "021ae759",
   "metadata": {},
   "outputs": [
    {
     "name": "stdout",
     "output_type": "stream",
     "text": [
      "Help on method_descriptor:\n",
      "\n",
      "sort(self, /, *, key=None, reverse=False)\n",
      "    Sort the list in ascending order and return None.\n",
      "    \n",
      "    The sort is in-place (i.e. the list itself is modified) and stable (i.e. the\n",
      "    order of two equal elements is maintained).\n",
      "    \n",
      "    If a key function is given, apply it once to each list item and sort them,\n",
      "    ascending or descending, according to their function values.\n",
      "    \n",
      "    The reverse flag can be set to sort in descending order.\n",
      "\n"
     ]
    }
   ],
   "source": [
    "help(list.sort)"
   ]
  },
  {
   "cell_type": "code",
   "execution_count": 86,
   "id": "4eb563ed",
   "metadata": {},
   "outputs": [
    {
     "data": {
      "text/plain": [
       "[6, 5, 4, 3, 2, 1, 'f', 'g', 'e', 'd', 'c', 'b', 'a']"
      ]
     },
     "execution_count": 86,
     "metadata": {},
     "output_type": "execute_result"
    }
   ],
   "source": [
    "num1"
   ]
  },
  {
   "cell_type": "code",
   "execution_count": 88,
   "id": "efa9654a",
   "metadata": {},
   "outputs": [],
   "source": [
    "num=[5,4,3,7,8,2,1,6]"
   ]
  },
  {
   "cell_type": "code",
   "execution_count": 89,
   "id": "9c18a157",
   "metadata": {},
   "outputs": [],
   "source": [
    "num.sort()"
   ]
  },
  {
   "cell_type": "code",
   "execution_count": 94,
   "id": "fb6c3e2a",
   "metadata": {},
   "outputs": [
    {
     "data": {
      "text/plain": [
       "[1, 2, 3, 4, 5, 6, 7, 8]"
      ]
     },
     "execution_count": 94,
     "metadata": {},
     "output_type": "execute_result"
    }
   ],
   "source": [
    "num"
   ]
  },
  {
   "cell_type": "markdown",
   "id": "f788de0f",
   "metadata": {},
   "source": [
    "**how to reverse list**"
   ]
  },
  {
   "cell_type": "code",
   "execution_count": 95,
   "id": "a43e26ab",
   "metadata": {},
   "outputs": [
    {
     "data": {
      "text/plain": [
       "[8, 7, 6, 5, 4, 3, 2, 1]"
      ]
     },
     "execution_count": 95,
     "metadata": {},
     "output_type": "execute_result"
    }
   ],
   "source": [
    "num[::-1]"
   ]
  },
  {
   "cell_type": "code",
   "execution_count": 96,
   "id": "4fd6adea",
   "metadata": {},
   "outputs": [
    {
     "data": {
      "text/plain": [
       "[6, 5, 4, 3, 2, 1, 'f', 'g', 'e', 'd', 'c', 'b', 'a']"
      ]
     },
     "execution_count": 96,
     "metadata": {},
     "output_type": "execute_result"
    }
   ],
   "source": [
    "num1"
   ]
  },
  {
   "cell_type": "code",
   "execution_count": 97,
   "id": "4aed3be4",
   "metadata": {},
   "outputs": [
    {
     "data": {
      "text/plain": [
       "['a', 'b', 'c', 'd', 'e', 'g', 'f', 1, 2, 3, 4, 5, 6]"
      ]
     },
     "execution_count": 97,
     "metadata": {},
     "output_type": "execute_result"
    }
   ],
   "source": [
    "num1[::-1]"
   ]
  },
  {
   "cell_type": "markdown",
   "id": "64be1f0b",
   "metadata": {},
   "source": [
    "***Given a Python list of numbers. Turn every item of a list into its square***"
   ]
  },
  {
   "cell_type": "code",
   "execution_count": 98,
   "id": "df4484fb",
   "metadata": {},
   "outputs": [
    {
     "data": {
      "text/plain": [
       "[1, 2, 3, 4, 5, 6, 7, 8]"
      ]
     },
     "execution_count": 98,
     "metadata": {},
     "output_type": "execute_result"
    }
   ],
   "source": [
    "num"
   ]
  },
  {
   "cell_type": "code",
   "execution_count": 99,
   "id": "e4d889ad",
   "metadata": {},
   "outputs": [
    {
     "name": "stdout",
     "output_type": "stream",
     "text": [
      "[1, 4, 9, 16, 25, 36, 49, 64]\n"
     ]
    }
   ],
   "source": [
    "num1=[i*i for i in num]\n",
    "print(num1)"
   ]
  },
  {
   "cell_type": "code",
   "execution_count": 100,
   "id": "469b9591",
   "metadata": {},
   "outputs": [
    {
     "name": "stdout",
     "output_type": "stream",
     "text": [
      "[144, 169, 196, 225]\n"
     ]
    }
   ],
   "source": [
    "num2=[12,13,14,15]\n",
    "num3=[i*i for i in num2]\n",
    "print(num3)"
   ]
  },
  {
   "cell_type": "markdown",
   "id": "5ddc160b",
   "metadata": {},
   "source": [
    " **Add item 7000 after 6000 in the following Python List**"
   ]
  },
  {
   "cell_type": "code",
   "execution_count": 101,
   "id": "8079286b",
   "metadata": {},
   "outputs": [],
   "source": [
    "list1 = [10, 20, [300, 400, [5000, 6000], 500], 30, 40]"
   ]
  },
  {
   "cell_type": "code",
   "execution_count": 102,
   "id": "104f48ba",
   "metadata": {},
   "outputs": [
    {
     "data": {
      "text/plain": [
       "[300, 400, [5000, 6000], 500]"
      ]
     },
     "execution_count": 102,
     "metadata": {},
     "output_type": "execute_result"
    }
   ],
   "source": [
    "list1[2]"
   ]
  },
  {
   "cell_type": "code",
   "execution_count": 104,
   "id": "a1b5cf25",
   "metadata": {},
   "outputs": [
    {
     "data": {
      "text/plain": [
       "[5000, 6000]"
      ]
     },
     "execution_count": 104,
     "metadata": {},
     "output_type": "execute_result"
    }
   ],
   "source": [
    "list1[2][2]"
   ]
  },
  {
   "cell_type": "code",
   "execution_count": 105,
   "id": "ce3b99e3",
   "metadata": {},
   "outputs": [
    {
     "data": {
      "text/plain": [
       "6000"
      ]
     },
     "execution_count": 105,
     "metadata": {},
     "output_type": "execute_result"
    }
   ],
   "source": [
    "list1[2][2][1]"
   ]
  },
  {
   "cell_type": "code",
   "execution_count": 106,
   "id": "6c293b2b",
   "metadata": {},
   "outputs": [],
   "source": [
    "list1[2][2].append(7000)"
   ]
  },
  {
   "cell_type": "code",
   "execution_count": 107,
   "id": "c0cc21dc",
   "metadata": {},
   "outputs": [
    {
     "data": {
      "text/plain": [
       "[10, 20, [300, 400, [5000, 6000, 7000], 500], 30, 40]"
      ]
     },
     "execution_count": 107,
     "metadata": {},
     "output_type": "execute_result"
    }
   ],
   "source": [
    "list1"
   ]
  },
  {
   "cell_type": "markdown",
   "id": "33db6508",
   "metadata": {},
   "source": [
    "***Another method**"
   ]
  },
  {
   "cell_type": "code",
   "execution_count": 108,
   "id": "13028f81",
   "metadata": {},
   "outputs": [],
   "source": [
    "list1[2][2].insert(2,7000)"
   ]
  },
  {
   "cell_type": "code",
   "execution_count": 109,
   "id": "dbe93a78",
   "metadata": {},
   "outputs": [
    {
     "data": {
      "text/plain": [
       "[10, 20, [300, 400, [5000, 6000, 7000, 7000], 500], 30, 40]"
      ]
     },
     "execution_count": 109,
     "metadata": {},
     "output_type": "execute_result"
    }
   ],
   "source": [
    "list1"
   ]
  },
  {
   "cell_type": "markdown",
   "id": "c80f2f2c",
   "metadata": {},
   "source": [
    "# Python program to interchange first and last elements in a list"
   ]
  },
  {
   "cell_type": "code",
   "execution_count": 8,
   "id": "872e478b",
   "metadata": {},
   "outputs": [
    {
     "name": "stdout",
     "output_type": "stream",
     "text": [
      "[24, 35, 9, 56, 12]\n"
     ]
    }
   ],
   "source": [
    "def num():\n",
    "    \n",
    "    num = [12, 35, 9, 56, 24]\n",
    "    num.pop(0)\n",
    "    num.pop(-1)\n",
    "    \n",
    "    num.insert(0,24)\n",
    "    num.append(12)\n",
    "    print(num)\n",
    "num()"
   ]
  },
  {
   "cell_type": "code",
   "execution_count": 26,
   "id": "509d0669",
   "metadata": {},
   "outputs": [
    {
     "name": "stdout",
     "output_type": "stream",
     "text": [
      "[24, 35, 9, 56, 12]\n"
     ]
    }
   ],
   "source": [
    "def swap(num):\n",
    "    num=[12,35,9,56,24]\n",
    "    size=len(num) #size=5\n",
    "    num1=num[0] # num1=12\n",
    "    num[0]=num[size-1] # 12=num[4] ;12=24\n",
    "    num[size-1]=num1  #24=12\n",
    "    \n",
    "    return num\n",
    "print(swap(num))\n",
    "    "
   ]
  },
  {
   "cell_type": "code",
   "execution_count": 24,
   "id": "5b1eab67",
   "metadata": {},
   "outputs": [
    {
     "name": "stdout",
     "output_type": "stream",
     "text": [
      "['__add__', '__class__', '__contains__', '__delattr__', '__delitem__', '__dir__', '__doc__', '__eq__', '__format__', '__ge__', '__getattribute__', '__getitem__', '__gt__', '__hash__', '__iadd__', '__imul__', '__init__', '__init_subclass__', '__iter__', '__le__', '__len__', '__lt__', '__mul__', '__ne__', '__new__', '__reduce__', '__reduce_ex__', '__repr__', '__reversed__', '__rmul__', '__setattr__', '__setitem__', '__sizeof__', '__str__', '__subclasshook__', 'append', 'clear', 'copy', 'count', 'extend', 'index', 'insert', 'pop', 'remove', 'reverse', 'sort']\n"
     ]
    }
   ],
   "source": [
    "print(dir(list))"
   ]
  },
  {
   "cell_type": "code",
   "execution_count": 5,
   "id": "1be4a598",
   "metadata": {},
   "outputs": [
    {
     "data": {
      "text/plain": [
       "4"
      ]
     },
     "execution_count": 5,
     "metadata": {},
     "output_type": "execute_result"
    }
   ],
   "source": [
    "num.index(24)"
   ]
  },
  {
   "cell_type": "markdown",
   "id": "84d0d056",
   "metadata": {},
   "source": [
    "# Another Method to interchange first and last element of list"
   ]
  },
  {
   "cell_type": "code",
   "execution_count": 28,
   "id": "50356d34",
   "metadata": {},
   "outputs": [
    {
     "name": "stdout",
     "output_type": "stream",
     "text": [
      "[50, 20, 30, 40, 10]\n"
     ]
    }
   ],
   "source": [
    "num=[10,20,30,40,50]\n",
    "x=num[0]\n",
    "num[0]=num[(len(num))-1]\n",
    "num[(len(num)-1)]=x\n",
    "print(num)"
   ]
  },
  {
   "cell_type": "code",
   "execution_count": 32,
   "id": "a22324b3",
   "metadata": {},
   "outputs": [
    {
     "name": "stdout",
     "output_type": "stream",
     "text": [
      "[50, 20, 30, 40, 10]\n"
     ]
    }
   ],
   "source": [
    "num=[10,20,30,40,50]\n",
    "\n",
    "num[0],num[-1] = num[-1],num[0]\n",
    "\n",
    "print(num)"
   ]
  },
  {
   "cell_type": "code",
   "execution_count": 34,
   "id": "158d4c82",
   "metadata": {},
   "outputs": [
    {
     "name": "stdout",
     "output_type": "stream",
     "text": [
      "[100, 45, 55, 40, 80]\n"
     ]
    }
   ],
   "source": [
    "num=[80,45,55,40,100]\n",
    "x= num[0],num[-1]\n",
    "num[-1],num[0]=x\n",
    "print(num)"
   ]
  },
  {
   "cell_type": "code",
   "execution_count": 35,
   "id": "4321977f",
   "metadata": {},
   "outputs": [
    {
     "name": "stdout",
     "output_type": "stream",
     "text": [
      "1\n",
      "[2, 3, 4]\n",
      "5\n"
     ]
    }
   ],
   "source": [
    "num=[1,2,3,4,5]\n",
    "a,*b,c=num\n",
    "num=a,*b,c\n",
    "print(a)\n",
    "print(b)\n",
    "print(c)"
   ]
  },
  {
   "cell_type": "code",
   "execution_count": 39,
   "id": "efd1293e",
   "metadata": {},
   "outputs": [
    {
     "name": "stdout",
     "output_type": "stream",
     "text": [
      "[5, 2, 3, 4, 1]\n"
     ]
    }
   ],
   "source": [
    "num=[1,2,3,4,5]\n",
    "start,*middle,end=num   #  *----Operand symbol\n",
    "num=[end,*middle,start]\n",
    "print(num)"
   ]
  },
  {
   "cell_type": "markdown",
   "id": "a031119b",
   "metadata": {},
   "source": [
    "# Python program to swap two elements in a list"
   ]
  },
  {
   "cell_type": "markdown",
   "id": "02c81ef5",
   "metadata": {},
   "source": [
    "# Given a list in Python and provided the positions of the elements, write a program to swap the two elements in the list."
   ]
  },
  {
   "cell_type": "markdown",
   "id": "67170201",
   "metadata": {},
   "source": [
    "Input : List = [23, 65, 19, 90], pos1 = 1, pos2 = 3"
   ]
  },
  {
   "cell_type": "code",
   "execution_count": 42,
   "id": "9296b168",
   "metadata": {},
   "outputs": [
    {
     "name": "stdout",
     "output_type": "stream",
     "text": [
      "[23, 90, 19, 65]\n"
     ]
    }
   ],
   "source": [
    "list1=[23,65,19,90]\n",
    "pos1,pos2=1,3\n",
    "list1[pos1],list1[pos2]=list1[pos2],list1[pos1]\n",
    "print(list1)"
   ]
  },
  {
   "cell_type": "markdown",
   "id": "3e674028",
   "metadata": {},
   "source": [
    "***BY using pop and insert*****"
   ]
  },
  {
   "cell_type": "code",
   "execution_count": 43,
   "id": "2c12b3ba",
   "metadata": {},
   "outputs": [
    {
     "name": "stdout",
     "output_type": "stream",
     "text": [
      "[23, 90, 19, 65]\n"
     ]
    }
   ],
   "source": [
    "list1=[23,65,19,90]\n",
    "pos1,pos2=1,3\n",
    "x=list1.pop(pos1) # 65 remove\n",
    "y=list1.pop(pos2 - 1) # now list1=[23,19,90] only 0,1,2 positions are present\n",
    "\n",
    "list1.insert(pos1,y)  # x==65 And y==90\n",
    "list1.insert(pos2,x)\n",
    "\n",
    "print(list1)"
   ]
  },
  {
   "cell_type": "markdown",
   "id": "0e607358",
   "metadata": {},
   "source": [
    "# Python – Swap elements in String list"
   ]
  },
  {
   "cell_type": "code",
   "execution_count": 53,
   "id": "38be633e",
   "metadata": {},
   "outputs": [
    {
     "name": "stdout",
     "output_type": "stream",
     "text": [
      "The original list is : ['python', 'course', 'django']\n",
      "List after performing character swaps : ['aython', 'dourse', 'djaneo']\n"
     ]
    }
   ],
   "source": [
    "list1=[\"python\",\"course\",\"django\"]\n",
    "\n",
    "print(\"The original list is : \" + str(list1))\n",
    "\n",
    "res = [sub.replace('c', 'd').replace('p', 'a').replace('g', 'e') for sub in list1]\n",
    "\n",
    "print (\"List after performing character swaps : \" + str(res))\n",
    "\n"
   ]
  },
  {
   "cell_type": "code",
   "execution_count": 68,
   "id": "e4c76e00",
   "metadata": {},
   "outputs": [
    {
     "name": "stdout",
     "output_type": "stream",
     "text": [
      "before: ['course', 'python']\n",
      "result : ['phurst', 'pythhn']\n"
     ]
    }
   ],
   "source": [
    "num=['course','python']\n",
    "print(\"before: \"+ str(num))\n",
    "\n",
    "x = [sub.replace('c', 'p').replace('e', 't').replace('o', 'h') for sub in num]\n",
    "\n",
    "print(\"result : \" + str(x))"
   ]
  },
  {
   "cell_type": "markdown",
   "id": "c621e67c",
   "metadata": {},
   "source": [
    "# Write a program to check if element exist in a list or not"
   ]
  },
  {
   "cell_type": "code",
   "execution_count": 10,
   "id": "16ef26c8",
   "metadata": {},
   "outputs": [
    {
     "name": "stdout",
     "output_type": "stream",
     "text": [
      "Enter a number which you want to check : 80\n",
      "Not Exist\n"
     ]
    }
   ],
   "source": [
    "num=[1,2,3,4,5,6,7,8,9,20,45]\n",
    "y=int(input(\"Enter a number which you want to check : \"))\n",
    "x=num.count(y)\n",
    "\n",
    "if x>0:\n",
    "    print(\"Exist\")\n",
    "else:\n",
    "    print(\"Not Exist\")"
   ]
  },
  {
   "cell_type": "code",
   "execution_count": 11,
   "id": "3547bfcb",
   "metadata": {},
   "outputs": [
    {
     "name": "stdout",
     "output_type": "stream",
     "text": [
      "Enter a number which you want to check : 9\n",
      "Exist\n"
     ]
    }
   ],
   "source": [
    "num=[1,2,3,4,5,6,7,8,9,20,45]\n",
    "y=int(input(\"Enter a number which you want to check : \"))\n",
    "x=num.count(y)\n",
    "\n",
    "if x>0:\n",
    "    print(\"Exist\")\n",
    "else:\n",
    "    print(\"Not Exist\")"
   ]
  },
  {
   "cell_type": "markdown",
   "id": "ae4d06c0",
   "metadata": {},
   "source": [
    "# Reversing a List in Python"
   ]
  },
  {
   "cell_type": "code",
   "execution_count": 28,
   "id": "7c2214b8",
   "metadata": {},
   "outputs": [
    {
     "name": "stdout",
     "output_type": "stream",
     "text": [
      "987654321\n"
     ]
    }
   ],
   "source": [
    "num=123456789\n",
    "\n",
    "rev=0\n",
    "while num !=0:\n",
    "    rem=num%10\n",
    "    rev=(rev*10)+rem\n",
    "    num=num//10\n",
    "print(rev)"
   ]
  },
  {
   "cell_type": "code",
   "execution_count": 29,
   "id": "2ea91e9f",
   "metadata": {},
   "outputs": [
    {
     "name": "stdout",
     "output_type": "stream",
     "text": [
      "['__add__', '__class__', '__contains__', '__delattr__', '__delitem__', '__dir__', '__doc__', '__eq__', '__format__', '__ge__', '__getattribute__', '__getitem__', '__gt__', '__hash__', '__iadd__', '__imul__', '__init__', '__init_subclass__', '__iter__', '__le__', '__len__', '__lt__', '__mul__', '__ne__', '__new__', '__reduce__', '__reduce_ex__', '__repr__', '__reversed__', '__rmul__', '__setattr__', '__setitem__', '__sizeof__', '__str__', '__subclasshook__', 'append', 'clear', 'copy', 'count', 'extend', 'index', 'insert', 'pop', 'remove', 'reverse', 'sort']\n"
     ]
    }
   ],
   "source": [
    "print(dir(list))"
   ]
  },
  {
   "cell_type": "markdown",
   "id": "093bc47b",
   "metadata": {},
   "source": [
    "# Using Built in function"
   ]
  },
  {
   "cell_type": "code",
   "execution_count": 30,
   "id": "03fccf6e",
   "metadata": {},
   "outputs": [],
   "source": [
    "num=[1,2,3,4,5,6,7,8,9,20,45]\n",
    "num.reverse()"
   ]
  },
  {
   "cell_type": "code",
   "execution_count": 31,
   "id": "aaebf5f4",
   "metadata": {},
   "outputs": [
    {
     "data": {
      "text/plain": [
       "[45, 20, 9, 8, 7, 6, 5, 4, 3, 2, 1]"
      ]
     },
     "execution_count": 31,
     "metadata": {},
     "output_type": "execute_result"
    }
   ],
   "source": [
    "num"
   ]
  },
  {
   "cell_type": "markdown",
   "id": "dfd3f04b",
   "metadata": {},
   "source": [
    "# Using the slicing technique."
   ]
  },
  {
   "cell_type": "code",
   "execution_count": 34,
   "id": "1a33f413",
   "metadata": {},
   "outputs": [
    {
     "data": {
      "text/plain": [
       "[45, 20, 9, 8, 7, 6, 5, 4, 3, 2, 1]"
      ]
     },
     "execution_count": 34,
     "metadata": {},
     "output_type": "execute_result"
    }
   ],
   "source": [
    "num=[1,2,3,4,5,6,7,8,9,20,45]\n",
    "num[::-1]"
   ]
  },
  {
   "cell_type": "markdown",
   "id": "d612dd77",
   "metadata": {},
   "source": [
    "# program to print even numbers in a list"
   ]
  },
  {
   "cell_type": "code",
   "execution_count": 52,
   "id": "f53b11a8",
   "metadata": {},
   "outputs": [
    {
     "name": "stdout",
     "output_type": "stream",
     "text": [
      "2  is a Even Number\n",
      "4  is a Even Number\n",
      "6  is a Even Number\n",
      "8  is a Even Number\n",
      "20  is a Even Number\n"
     ]
    }
   ],
   "source": [
    "num=[1,2,3,4,5,6,7,8,9,20,45]\n",
    "for i in num:   # i=1,2,3,4,5,6,7,8,9,20,45 \n",
    "    if i%2==0:  # i%2 and remider 0 then this statement will be true\n",
    "        print(i,\" is a Even Number\")\n",
    "        i=i+1    # for first iteration i=1;1=1+1;for second iteration i=2 and so on \n",
    "    "
   ]
  },
  {
   "cell_type": "markdown",
   "id": "6dd2b74f",
   "metadata": {},
   "source": [
    "# program to print odd numbers in a list"
   ]
  },
  {
   "cell_type": "code",
   "execution_count": 15,
   "id": "08f6f7b8",
   "metadata": {},
   "outputs": [
    {
     "name": "stdout",
     "output_type": "stream",
     "text": [
      "1 is odd number\n",
      "2  is a Even Number\n",
      "3 is odd number\n",
      "4  is a Even Number\n",
      "5 is odd number\n",
      "6  is a Even Number\n",
      "7 is odd number\n",
      "8  is a Even Number\n",
      "9 is odd number\n",
      "20  is a Even Number\n",
      "45 is odd number\n"
     ]
    }
   ],
   "source": [
    "num=[1,2,3,4,5,6,7,8,9,20,45]\n",
    "for i in num:   # i=1,2,3,4,5,6,7,8,9,20,45 \n",
    "    if i%2==0:  # i%2 and remider 0 then this statement will be true\n",
    "        print(i   ,\" is a Even Number\")\n",
    "        i=i+1    # for first iteration i=1;1=1+1;for second iteration i=2 and so on \n",
    "    else:\n",
    "        print(i   ,'is odd number')\n",
    "        "
   ]
  },
  {
   "cell_type": "code",
   "execution_count": 29,
   "id": "9d961d60",
   "metadata": {},
   "outputs": [
    {
     "name": "stdout",
     "output_type": "stream",
     "text": [
      "1 is odd number\n",
      "3 is odd number\n",
      "5 is odd number\n",
      "7 is odd number\n",
      "9 is odd number\n",
      "45 is odd number\n"
     ]
    }
   ],
   "source": [
    "num=[1,2,3,4,5,6,7,8,9,20,45]\n",
    "\n",
    "for i in num:\n",
    "    if i %2!=0:\n",
    "        print(i,'is odd number')\n",
    "        \n",
    "        \n",
    "        \n",
    "    "
   ]
  },
  {
   "cell_type": "markdown",
   "id": "fcdcd6a5",
   "metadata": {},
   "source": [
    "**User input**"
   ]
  },
  {
   "cell_type": "code",
   "execution_count": 51,
   "id": "93bc6682",
   "metadata": {},
   "outputs": [
    {
     "name": "stdout",
     "output_type": "stream",
     "text": [
      "Enter Numbers Which You Want to check even or odd84\n",
      "84 even\n"
     ]
    }
   ],
   "source": [
    "num=int(input(\"Enter Numbers Which You Want to check even or odd\"))\n",
    "rem=num%2\n",
    "if (rem==0):\n",
    "    print(num,'even')\n",
    "else:\n",
    "    print(num,'odd')"
   ]
  },
  {
   "cell_type": "code",
   "execution_count": 2,
   "id": "60653771",
   "metadata": {},
   "outputs": [
    {
     "name": "stdout",
     "output_type": "stream",
     "text": [
      "Enter Numbers Which You Want to check even or odd: 45\n",
      "45 odd\n"
     ]
    }
   ],
   "source": [
    "num=int(input(\"Enter Numbers Which You Want to check even or odd: \"))\n",
    "rem=num%2\n",
    "if (rem==0):\n",
    "    print(num,'even')\n",
    "else:\n",
    "    print(num,'odd')"
   ]
  },
  {
   "cell_type": "markdown",
   "id": "ad817d42",
   "metadata": {},
   "source": [
    "***Write a program which will find all such numbers which are divisible by 7 but are not a multiple of 5, between 2000 and 3200(both included) the number obtained should be stored in a list.***"
   ]
  },
  {
   "cell_type": "code",
   "execution_count": 3,
   "id": "ee1b0dd1",
   "metadata": {},
   "outputs": [
    {
     "name": "stdout",
     "output_type": "stream",
     "text": [
      "[2002, 2009, 2016, 2023, 2037, 2044, 2051, 2058, 2072, 2079, 2086, 2093, 2107, 2114, 2121, 2128, 2142, 2149, 2156, 2163, 2177, 2184, 2191, 2198, 2212, 2219, 2226, 2233, 2247, 2254, 2261, 2268, 2282, 2289, 2296, 2303, 2317, 2324, 2331, 2338, 2352, 2359, 2366, 2373, 2387, 2394, 2401, 2408, 2422, 2429, 2436, 2443, 2457, 2464, 2471, 2478, 2492, 2499, 2506, 2513, 2527, 2534, 2541, 2548, 2562, 2569, 2576, 2583, 2597, 2604, 2611, 2618, 2632, 2639, 2646, 2653, 2667, 2674, 2681, 2688, 2702, 2709, 2716, 2723, 2737, 2744, 2751, 2758, 2772, 2779, 2786, 2793, 2807, 2814, 2821, 2828, 2842, 2849, 2856, 2863, 2877, 2884, 2891, 2898, 2912, 2919, 2926, 2933, 2947, 2954, 2961, 2968, 2982, 2989, 2996, 3003, 3017, 3024, 3031, 3038, 3052, 3059, 3066, 3073, 3087, 3094, 3101, 3108, 3122, 3129, 3136, 3143, 3157, 3164, 3171, 3178, 3192, 3199]\n"
     ]
    }
   ],
   "source": [
    "num=[]\n",
    "for i in range(2000,3201):\n",
    "    if i%7==0 and i%5 !=0:\n",
    "        num.append(i)\n",
    "print(num)"
   ]
  },
  {
   "cell_type": "markdown",
   "id": "3b56f79d",
   "metadata": {},
   "source": [
    "***Write a program which will find all such numbers which are divisible by 3 and not by 2 between 1 to 100 the number obtained should be stored in a list***"
   ]
  },
  {
   "cell_type": "code",
   "execution_count": 4,
   "id": "230123ec",
   "metadata": {},
   "outputs": [
    {
     "name": "stdout",
     "output_type": "stream",
     "text": [
      "[3, 9, 15, 21, 27, 33, 39, 45, 51, 57, 63, 69, 75, 81, 87, 93, 99]\n"
     ]
    }
   ],
   "source": [
    "result=[]\n",
    "for i in range(1,101):\n",
    "    if i%3==0 and i%2!=0:\n",
    "        result.append(i)\n",
    "print(result)"
   ]
  },
  {
   "cell_type": "markdown",
   "id": "44c73b02",
   "metadata": {},
   "source": [
    "***Write a program which will have a list  of values and then input a number and check if the value present in the list or not and if present how many times.***"
   ]
  },
  {
   "cell_type": "code",
   "execution_count": 21,
   "id": "119ead12",
   "metadata": {},
   "outputs": [
    {
     "name": "stdout",
     "output_type": "stream",
     "text": [
      "Enter a number which you want to check : 88\n",
      "number present in list\n",
      "4 times value is present\n"
     ]
    }
   ],
   "source": [
    "num=[45,88,87,95,88,75,88,91,100,88,10]\n",
    "x=int(input(\"Enter a number which you want to check : \"))\n",
    "if x in num:\n",
    "    print(\"number present in list\")\n",
    "    print(num.count(x),'times value is present')\n",
    "else:\n",
    "    print(\"Not present in list\")"
   ]
  },
  {
   "cell_type": "code",
   "execution_count": 9,
   "id": "b08dae80",
   "metadata": {},
   "outputs": [
    {
     "name": "stdout",
     "output_type": "stream",
     "text": [
      "Enter a number which you want to check : 20\n",
      "value is present 20\n",
      "1 times value is present\n"
     ]
    }
   ],
   "source": [
    "num=[45,35,87,95,96,75,88,91,100,20,10]\n",
    "x=int(input(\"Enter a number which you want to check : \"))\n",
    "for i in num:\n",
    "    if i==x:\n",
    "        print('value is present',x)\n",
    "    \n",
    "        \n",
    "print(num.count(x),'times value is present')"
   ]
  },
  {
   "cell_type": "code",
   "execution_count": 10,
   "id": "286da579",
   "metadata": {},
   "outputs": [
    {
     "name": "stdout",
     "output_type": "stream",
     "text": [
      "Enter a number which you want to check : 32\n",
      "0 times value is present\n"
     ]
    }
   ],
   "source": [
    "num=[45,35,87,95,96,75,88,91,100,20,10]\n",
    "x=int(input(\"Enter a number which you want to check : \"))\n",
    "for i in num:\n",
    "    if i==x:\n",
    "        print('value is present',x)\n",
    "    \n",
    "        \n",
    "print(num.count(x),'times value is present')"
   ]
  },
  {
   "cell_type": "code",
   "execution_count": 19,
   "id": "477cae01",
   "metadata": {},
   "outputs": [
    {
     "name": "stdout",
     "output_type": "stream",
     "text": [
      "Enter a number which you want to check : 95\n",
      "number present in list\n",
      "1 times value is present\n"
     ]
    }
   ],
   "source": [
    "num=[45,35,87,95,96,75,88,91,100,20,10]\n",
    "x=int(input(\"Enter a number which you want to check : \"))\n",
    "if x in num:\n",
    "    print(\"number present in list\")\n",
    "    print(num.count(x),'times value is present')\n",
    "else:\n",
    "    print(\"Not present in list\")"
   ]
  },
  {
   "cell_type": "code",
   "execution_count": 23,
   "id": "6b9c74fa",
   "metadata": {},
   "outputs": [
    {
     "name": "stdout",
     "output_type": "stream",
     "text": [
      "Enter a number which you want to check : 12\n",
      "Number Not present in list\n"
     ]
    }
   ],
   "source": [
    "num=[45,35,87,95,96,75,88,91,100,20,10]\n",
    "x=int(input(\"Enter a number which you want to check : \"))\n",
    "if x in num:\n",
    "    print(\"number present in list\")\n",
    "    print(num.count(x),'times value is present')\n",
    "else:\n",
    "    print(\"Number Not present in list\")"
   ]
  },
  {
   "cell_type": "markdown",
   "id": "39fe9640",
   "metadata": {},
   "source": [
    "**Write a program which will input 5 names from user and print the names in alphabetical order**"
   ]
  },
  {
   "cell_type": "code",
   "execution_count": 49,
   "id": "b65e71c5",
   "metadata": {},
   "outputs": [
    {
     "name": "stdout",
     "output_type": "stream",
     "text": [
      "Enter first names : dog\n",
      "Enter second names : bat\n",
      "Enter third names : cat\n",
      "Enter fourth names : apple\n",
      "Enter fifth names : banana\n",
      "['dog', 'bat', 'cat', 'apple', 'banana']\n",
      "List in Aplhabetical order:  ['apple', 'banana', 'bat', 'cat', 'dog']\n"
     ]
    }
   ],
   "source": [
    "num=[str(input(\"Enter first names : \"))]\n",
    "num.append(str(input(\"Enter second names : \")))\n",
    "num.append(str(input(\"Enter third names : \")))\n",
    "num.append(str(input(\"Enter fourth names : \")))\n",
    "\n",
    "num.append(str(input(\"Enter fifth names : \")))\n",
    "print(num)\n",
    "num.sort()\n",
    "print(\"List in Aplhabetical order: \",num)\n",
    "\n",
    "\n"
   ]
  },
  {
   "cell_type": "code",
   "execution_count": 39,
   "id": "7da01eb3",
   "metadata": {},
   "outputs": [
    {
     "name": "stdout",
     "output_type": "stream",
     "text": [
      "['apple', 'banana', 'bat', 'cat']\n"
     ]
    }
   ],
   "source": [
    "num1=['banana','apple','cat','bat']\n",
    "num1.sort()\n",
    "print(num1)"
   ]
  },
  {
   "cell_type": "code",
   "execution_count": 37,
   "id": "aa5a7eaa",
   "metadata": {},
   "outputs": [],
   "source": [
    "num1.sort()"
   ]
  },
  {
   "cell_type": "code",
   "execution_count": 40,
   "id": "d714ba32",
   "metadata": {},
   "outputs": [],
   "source": [
    "num=[45,35,87,95,96,75,88,91,100,20,10]\n",
    "num.sort()"
   ]
  },
  {
   "cell_type": "code",
   "execution_count": 41,
   "id": "4d6b8abd",
   "metadata": {},
   "outputs": [
    {
     "data": {
      "text/plain": [
       "[10, 20, 35, 45, 75, 87, 88, 91, 95, 96, 100]"
      ]
     },
     "execution_count": 41,
     "metadata": {},
     "output_type": "execute_result"
    }
   ],
   "source": [
    "num"
   ]
  },
  {
   "cell_type": "code",
   "execution_count": 47,
   "id": "2ad75c94",
   "metadata": {},
   "outputs": [
    {
     "name": "stdout",
     "output_type": "stream",
     "text": [
      "Enter a name : dog\n",
      "Enter a name : cat\n",
      "Enter a name : bat\n",
      "Enter a name : apple\n",
      "Enter a name : banana\n",
      "Enterd names are:  ['dog', 'cat', 'bat', 'apple', 'banana']\n",
      "sorted names are :  ['apple', 'banana', 'bat', 'cat', 'dog']\n"
     ]
    }
   ],
   "source": [
    "names=[]\n",
    "for i in range(5):\n",
    "    n=input(\"Enter a name : \")\n",
    "    names.append(n)\n",
    "print(\"Enterd names are: \",names)\n",
    "names.sort()\n",
    "print('sorted names are : ',names)"
   ]
  },
  {
   "cell_type": "markdown",
   "id": "3803250f",
   "metadata": {},
   "source": [
    "**Write a program to input names and marks of 5 students, print the names marks of students who got the highest marks and who got the lowest marks**"
   ]
  },
  {
   "cell_type": "code",
   "execution_count": 55,
   "id": "29a8ab88",
   "metadata": {},
   "outputs": [
    {
     "name": "stdout",
     "output_type": "stream",
     "text": [
      "Enter a name: Mahesh\n",
      "Enter a marks : 90\n",
      "Enter a name: Ganesh\n",
      "Enter a marks : 98\n",
      "Enter a name: Raj\n",
      "Enter a marks : 60\n",
      "Enter a name: Vikas\n",
      "Enter a marks : 80\n",
      "Enter a name: Vipul\n",
      "Enter a marks : 88\n",
      "students names are :  ['Mahesh', 'Ganesh', 'Raj', 'Vikas', 'Vipul']\n",
      "Students marks are :  [90, 98, 60, 80, 88]\n",
      "Students having highest marks is:  Ganesh Marks_______ 98\n",
      "Students having lowest marks is:  Raj Marks_________ 60\n"
     ]
    }
   ],
   "source": [
    "names=[]\n",
    "marks=[]\n",
    "for i in range(5):\n",
    "    s=input(\"Enter a name: \")\n",
    "    names.append(s)\n",
    "    m=int(input(\"Enter a marks : \"))\n",
    "    marks.append(m)\n",
    "print(\"students names are : \",names)\n",
    "print(\"Students marks are : \",marks)\n",
    "h=max(marks)\n",
    "l=min(marks)\n",
    "\n",
    "for i in range(5):\n",
    "    if h==marks[i]:\n",
    "        print(\"Students having highest marks is: \",names[i],\"Marks_______\",h)\n",
    "    if l==marks[i]:\n",
    "        print(\"Students having lowest marks is: \",names[i],\"Marks_________\",l)\n",
    "        "
   ]
  },
  {
   "cell_type": "markdown",
   "id": "bd6ae280",
   "metadata": {},
   "source": [
    "**Write a program to input a value and insert it in the middle of an existing list.**"
   ]
  },
  {
   "cell_type": "code",
   "execution_count": 59,
   "id": "0b5cefb5",
   "metadata": {},
   "outputs": [
    {
     "name": "stdout",
     "output_type": "stream",
     "text": [
      "Enter a value: 5\n",
      "Enter a position at which number is entered:4\n",
      "[1, 2, 3, 4, 5, 6, 7, 8, 9, 10]\n"
     ]
    }
   ],
   "source": [
    "num=[1,2,3,4,6,7,8,9,10]\n",
    "v=int(input(\"Enter a value: \"))\n",
    "pos=int(input(\"Enter a position at which number is entered:\"))\n",
    "if pos > len(num):\n",
    "    print(\"Error: Please enter a valid position according to range of num!\")\n",
    "        \n",
    "num.insert(pos,v)\n",
    "print(num)"
   ]
  },
  {
   "cell_type": "code",
   "execution_count": 61,
   "id": "5c2928f8",
   "metadata": {},
   "outputs": [
    {
     "name": "stdout",
     "output_type": "stream",
     "text": [
      "Enter a value: 8.5\n",
      "Enter a position at which number is entered:7\n",
      "[1, 2, 3, 4, 6, 7, 8, 8.5, 9, 10]\n"
     ]
    }
   ],
   "source": [
    "num=[1,2,3,4,6,7,8,9,10]\n",
    "v=float(input(\"Enter a value: \"))\n",
    "pos=int(input(\"Enter a position at which number is entered:\"))\n",
    "if pos > len(num):\n",
    "    print(\"Error: Please enter a valid position according to range of num!\")\n",
    "        \n",
    "num.insert(pos,v)\n",
    "print(num)"
   ]
  },
  {
   "cell_type": "code",
   "execution_count": 63,
   "id": "6a549ce3",
   "metadata": {},
   "outputs": [
    {
     "name": "stdout",
     "output_type": "stream",
     "text": [
      "Enter a value: 40\n",
      "Enter a position at which number is entered:12\n",
      "Error: Please enter a valid position according to range of num!\n"
     ]
    }
   ],
   "source": [
    "num=[1,2,3,4,6,7,8,9,10]\n",
    "v=int(input(\"Enter a value: \"))\n",
    "pos=int(input(\"Enter a position at which number is entered:\"))\n",
    "if pos > len(num):\n",
    "    print(\"Error: Please enter a valid position according to range of num!\")\n",
    "if pos<= len(num):\n",
    "    \n",
    "    num.insert(pos,v)\n",
    "    print(num)"
   ]
  },
  {
   "cell_type": "markdown",
   "id": "a0dced73",
   "metadata": {},
   "source": [
    "#                                 Tuple"
   ]
  },
  {
   "cell_type": "code",
   "execution_count": 64,
   "id": "390d6b05",
   "metadata": {},
   "outputs": [
    {
     "name": "stdout",
     "output_type": "stream",
     "text": [
      "['__add__', '__class__', '__contains__', '__delattr__', '__dir__', '__doc__', '__eq__', '__format__', '__ge__', '__getattribute__', '__getitem__', '__getnewargs__', '__gt__', '__hash__', '__init__', '__init_subclass__', '__iter__', '__le__', '__len__', '__lt__', '__mul__', '__ne__', '__new__', '__reduce__', '__reduce_ex__', '__repr__', '__rmul__', '__setattr__', '__sizeof__', '__str__', '__subclasshook__', 'count', 'index']\n"
     ]
    }
   ],
   "source": [
    "print(dir(tuple))"
   ]
  },
  {
   "cell_type": "code",
   "execution_count": 65,
   "id": "8f51ddb8",
   "metadata": {},
   "outputs": [
    {
     "name": "stdout",
     "output_type": "stream",
     "text": [
      "Help on method_descriptor:\n",
      "\n",
      "count(self, value, /)\n",
      "    Return number of occurrences of value.\n",
      "\n"
     ]
    }
   ],
   "source": [
    "help(tuple.count)"
   ]
  },
  {
   "cell_type": "code",
   "execution_count": 66,
   "id": "1dcf680d",
   "metadata": {},
   "outputs": [
    {
     "name": "stdout",
     "output_type": "stream",
     "text": [
      "Help on method_descriptor:\n",
      "\n",
      "index(self, value, start=0, stop=9223372036854775807, /)\n",
      "    Return first index of value.\n",
      "    \n",
      "    Raises ValueError if the value is not present.\n",
      "\n"
     ]
    }
   ],
   "source": [
    "help(tuple.index)"
   ]
  },
  {
   "cell_type": "code",
   "execution_count": 67,
   "id": "2b00dfee",
   "metadata": {},
   "outputs": [],
   "source": [
    "tu=(1,2,3,4,5,[22,55])"
   ]
  },
  {
   "cell_type": "code",
   "execution_count": 68,
   "id": "e9f56e8b",
   "metadata": {},
   "outputs": [
    {
     "data": {
      "text/plain": [
       "tuple"
      ]
     },
     "execution_count": 68,
     "metadata": {},
     "output_type": "execute_result"
    }
   ],
   "source": [
    "type(tu)"
   ]
  },
  {
   "cell_type": "code",
   "execution_count": 69,
   "id": "1d156a69",
   "metadata": {},
   "outputs": [
    {
     "data": {
      "text/plain": [
       "6"
      ]
     },
     "execution_count": 69,
     "metadata": {},
     "output_type": "execute_result"
    }
   ],
   "source": [
    "len(tu)"
   ]
  },
  {
   "cell_type": "code",
   "execution_count": 70,
   "id": "93bce5bf",
   "metadata": {},
   "outputs": [],
   "source": [
    "tu[5][0]=54"
   ]
  },
  {
   "cell_type": "code",
   "execution_count": 71,
   "id": "0ba9fa09",
   "metadata": {},
   "outputs": [
    {
     "data": {
      "text/plain": [
       "(1, 2, 3, 4, 5, [54, 55])"
      ]
     },
     "execution_count": 71,
     "metadata": {},
     "output_type": "execute_result"
    }
   ],
   "source": [
    "tu"
   ]
  },
  {
   "cell_type": "markdown",
   "id": "b93a2bee",
   "metadata": {},
   "source": [
    "**We generally use tuples for heterogeneous (different) data types and lists for homogeneous (similar) data types.**"
   ]
  },
  {
   "cell_type": "markdown",
   "id": "61be2ec6",
   "metadata": {},
   "source": [
    "# Write a Python program to add an item in a tuple."
   ]
  },
  {
   "cell_type": "code",
   "execution_count": 75,
   "id": "3ff048c4",
   "metadata": {},
   "outputs": [
    {
     "name": "stdout",
     "output_type": "stream",
     "text": [
      "(1, 2, 3, 4, 5, 6, 8)\n"
     ]
    }
   ],
   "source": [
    "num=1,2,3,4,5,6,8\n",
    "print(num)"
   ]
  },
  {
   "cell_type": "code",
   "execution_count": 76,
   "id": "6dfe09e5",
   "metadata": {},
   "outputs": [
    {
     "data": {
      "text/plain": [
       "tuple"
      ]
     },
     "execution_count": 76,
     "metadata": {},
     "output_type": "execute_result"
    }
   ],
   "source": [
    "type(num)"
   ]
  },
  {
   "cell_type": "markdown",
   "id": "1cb03597",
   "metadata": {},
   "source": [
    "#tuples are immutable, so you can not add new elements\n",
    "#using merge of tuples with the + operator you can add an element and it will create a new tuple"
   ]
  },
  {
   "cell_type": "code",
   "execution_count": 79,
   "id": "2cbb587e",
   "metadata": {},
   "outputs": [],
   "source": [
    "num=num + (45,)"
   ]
  },
  {
   "cell_type": "code",
   "execution_count": 80,
   "id": "4f0e55a7",
   "metadata": {},
   "outputs": [
    {
     "data": {
      "text/plain": [
       "(1, 2, 3, 4, 5, 6, 8, 45)"
      ]
     },
     "execution_count": 80,
     "metadata": {},
     "output_type": "execute_result"
    }
   ],
   "source": [
    "num"
   ]
  },
  {
   "cell_type": "code",
   "execution_count": 81,
   "id": "b8d62e1b",
   "metadata": {},
   "outputs": [],
   "source": [
    "num=num + (46,)"
   ]
  },
  {
   "cell_type": "code",
   "execution_count": 82,
   "id": "4bd523a0",
   "metadata": {},
   "outputs": [
    {
     "data": {
      "text/plain": [
       "(1, 2, 3, 4, 5, 6, 8, 45, 46)"
      ]
     },
     "execution_count": 82,
     "metadata": {},
     "output_type": "execute_result"
    }
   ],
   "source": [
    "num"
   ]
  },
  {
   "cell_type": "markdown",
   "id": "ffd02652",
   "metadata": {},
   "source": [
    "**adding items in a specific index**"
   ]
  },
  {
   "cell_type": "code",
   "execution_count": 84,
   "id": "f495e693",
   "metadata": {},
   "outputs": [],
   "source": [
    "num=num[:6] + (7,)"
   ]
  },
  {
   "cell_type": "code",
   "execution_count": 85,
   "id": "2d0aa116",
   "metadata": {},
   "outputs": [
    {
     "data": {
      "text/plain": [
       "(1, 2, 3, 4, 5, 6, 7)"
      ]
     },
     "execution_count": 85,
     "metadata": {},
     "output_type": "execute_result"
    }
   ],
   "source": [
    "num"
   ]
  },
  {
   "cell_type": "code",
   "execution_count": 86,
   "id": "1bc64305",
   "metadata": {},
   "outputs": [],
   "source": [
    "num=num[:5] + (11,12,13,14,15)"
   ]
  },
  {
   "cell_type": "code",
   "execution_count": 87,
   "id": "1c6d00eb",
   "metadata": {},
   "outputs": [
    {
     "data": {
      "text/plain": [
       "(1, 2, 3, 4, 5, 11, 12, 13, 14, 15)"
      ]
     },
     "execution_count": 87,
     "metadata": {},
     "output_type": "execute_result"
    }
   ],
   "source": [
    "num"
   ]
  },
  {
   "cell_type": "markdown",
   "id": "5c441600",
   "metadata": {},
   "source": [
    "# Write a Python program to check whether an element exists within a tuple."
   ]
  },
  {
   "cell_type": "code",
   "execution_count": 88,
   "id": "09234a1c",
   "metadata": {},
   "outputs": [
    {
     "name": "stdout",
     "output_type": "stream",
     "text": [
      "Enter a element which you want to check: r\n",
      "Element exist in tuple\n"
     ]
    }
   ],
   "source": [
    "num = (\"w\", 3, \"r\", \"e\", \"s\", \"o\", \"u\", \"r\", \"c\", \"e\")\n",
    "x=input(\"Enter a element which you want to check: \")\n",
    "if x in num:\n",
    "    print(\"Element exist in tuple\")\n",
    "else:\n",
    "    print(\"Element not exist in tuple\")"
   ]
  },
  {
   "cell_type": "code",
   "execution_count": 89,
   "id": "f254d3ba",
   "metadata": {},
   "outputs": [
    {
     "name": "stdout",
     "output_type": "stream",
     "text": [
      "Enter a element which you want to check: 35\n",
      "Element not exist in tuple\n"
     ]
    }
   ],
   "source": [
    "num = (\"w\", 3, \"r\", \"e\", \"s\", \"o\", \"u\", \"r\", \"c\", \"e\")\n",
    "x=input(\"Enter a element which you want to check: \")\n",
    "if x in num:\n",
    "    print(\"Element exist in tuple\")\n",
    "else:\n",
    "    print(\"Element not exist in tuple\")"
   ]
  },
  {
   "cell_type": "code",
   "execution_count": 98,
   "id": "42881f03",
   "metadata": {},
   "outputs": [
    {
     "name": "stdout",
     "output_type": "stream",
     "text": [
      "Enter a element which you want to check: 5\n",
      "Element exist in tuple\n"
     ]
    }
   ],
   "source": [
    "num = (\"w\", 5, \"r\", \"e\", \"s\", \"o\", \"u\", 45, \"c\", \"e\")\n",
    "x=int(input(\"Enter a element which you want to check: \"))\n",
    "if x in num:\n",
    "    print(\"Element exist in tuple\")\n",
    "else:\n",
    "    print(\"Element not exist in tuple\")"
   ]
  },
  {
   "cell_type": "code",
   "execution_count": 92,
   "id": "ee4447ac",
   "metadata": {},
   "outputs": [
    {
     "data": {
      "text/plain": [
       "tuple"
      ]
     },
     "execution_count": 92,
     "metadata": {},
     "output_type": "execute_result"
    }
   ],
   "source": [
    "num = (\"w\", 3, \"r\", \"e\", \"s\", \"o\", \"u\", \"r\", \"c\", \"e\")\n",
    "type(num)"
   ]
  },
  {
   "cell_type": "code",
   "execution_count": 93,
   "id": "16265ac5",
   "metadata": {},
   "outputs": [
    {
     "name": "stdout",
     "output_type": "stream",
     "text": [
      "w\n",
      "3\n",
      "r\n",
      "e\n",
      "s\n",
      "o\n",
      "u\n",
      "r\n",
      "c\n",
      "e\n"
     ]
    }
   ],
   "source": [
    "num = (\"w\", 3, \"r\", \"e\", \"s\", \"o\", \"u\", \"r\", \"c\", \"e\")\n",
    "for i in num:\n",
    "    print(i)"
   ]
  },
  {
   "cell_type": "code",
   "execution_count": 94,
   "id": "0e61b8ca",
   "metadata": {},
   "outputs": [
    {
     "data": {
      "text/plain": [
       "str"
      ]
     },
     "execution_count": 94,
     "metadata": {},
     "output_type": "execute_result"
    }
   ],
   "source": [
    "type(i)"
   ]
  },
  {
   "cell_type": "markdown",
   "id": "79d9fda6",
   "metadata": {},
   "source": [
    "# Write a Python program to reverse a tuple."
   ]
  },
  {
   "cell_type": "code",
   "execution_count": 104,
   "id": "49a23e0e",
   "metadata": {},
   "outputs": [
    {
     "name": "stdout",
     "output_type": "stream",
     "text": [
      "(9, 8, 7, 6, 5, 4, 3, 2, 1)\n"
     ]
    }
   ],
   "source": [
    "num=(1,2,3,4,5,6,7,8,9)\n",
    "x=reversed(num)\n",
    "\n",
    "print(tuple(x))"
   ]
  },
  {
   "cell_type": "markdown",
   "id": "2242a747",
   "metadata": {},
   "source": [
    "**Using Slicing**"
   ]
  },
  {
   "cell_type": "code",
   "execution_count": 105,
   "id": "54a9c490",
   "metadata": {},
   "outputs": [
    {
     "name": "stdout",
     "output_type": "stream",
     "text": [
      "(9, 8, 7, 6, 5, 4, 3, 2, 1)\n"
     ]
    }
   ],
   "source": [
    "num=(1,2,3,4,5,6,7,8,9)\n",
    "x=num[::-1]\n",
    "print(x)"
   ]
  },
  {
   "cell_type": "code",
   "execution_count": 107,
   "id": "9afbeb04",
   "metadata": {},
   "outputs": [
    {
     "name": "stdout",
     "output_type": "stream",
     "text": [
      "(9, 8, 7, 6, 5, 4, 3, 2, 1)\n"
     ]
    }
   ],
   "source": [
    "num=(1,2,3,4,5,6,7,8,9)\n",
    "x=()\n",
    "for i in reversed(num):\n",
    "    x=x + (i,)\n",
    "print(x)"
   ]
  },
  {
   "cell_type": "code",
   "execution_count": 113,
   "id": "16847554",
   "metadata": {},
   "outputs": [
    {
     "name": "stdout",
     "output_type": "stream",
     "text": [
      "123456789\n"
     ]
    }
   ],
   "source": [
    "num=(1,2,3,4,5,6,7,8,9)\n",
    "rev=0\n",
    "for i in num: # i==1 to 9\n",
    "    \n",
    "    if i!=0:\n",
    "    \n",
    "        \n",
    "        rem=i%10\n",
    "        rev=(rev * 10) + rem\n",
    "        i=i//10\n",
    "print(rev)"
   ]
  },
  {
   "cell_type": "code",
   "execution_count": 114,
   "id": "9b50c575",
   "metadata": {},
   "outputs": [
    {
     "data": {
      "text/plain": [
       "1"
      ]
     },
     "execution_count": 114,
     "metadata": {},
     "output_type": "execute_result"
    }
   ],
   "source": [
    "1%10"
   ]
  },
  {
   "cell_type": "code",
   "execution_count": 115,
   "id": "df3fc979",
   "metadata": {},
   "outputs": [
    {
     "data": {
      "text/plain": [
       "2"
      ]
     },
     "execution_count": 115,
     "metadata": {},
     "output_type": "execute_result"
    }
   ],
   "source": [
    "2%10"
   ]
  },
  {
   "cell_type": "markdown",
   "id": "4679e961",
   "metadata": {},
   "source": [
    "# Write a Python program to replace last value of tuples in a list."
   ]
  },
  {
   "cell_type": "code",
   "execution_count": 118,
   "id": "c6acdc1b",
   "metadata": {},
   "outputs": [],
   "source": [
    "l = [(10, 20, 40), (40, 50, 60), (70, 80, 90)]\n"
   ]
  },
  {
   "cell_type": "code",
   "execution_count": 119,
   "id": "fe21b2aa",
   "metadata": {},
   "outputs": [
    {
     "data": {
      "text/plain": [
       "list"
      ]
     },
     "execution_count": 119,
     "metadata": {},
     "output_type": "execute_result"
    }
   ],
   "source": [
    "type(l)"
   ]
  },
  {
   "cell_type": "code",
   "execution_count": 120,
   "id": "d3948bc8",
   "metadata": {},
   "outputs": [
    {
     "data": {
      "text/plain": [
       "3"
      ]
     },
     "execution_count": 120,
     "metadata": {},
     "output_type": "execute_result"
    }
   ],
   "source": [
    "len(l)"
   ]
  },
  {
   "cell_type": "code",
   "execution_count": 121,
   "id": "17eee2d0",
   "metadata": {},
   "outputs": [
    {
     "data": {
      "text/plain": [
       "(10, 20, 40)"
      ]
     },
     "execution_count": 121,
     "metadata": {},
     "output_type": "execute_result"
    }
   ],
   "source": [
    "l[0]"
   ]
  },
  {
   "cell_type": "code",
   "execution_count": 122,
   "id": "5814f3e1",
   "metadata": {},
   "outputs": [
    {
     "data": {
      "text/plain": [
       "(70, 80, 90)"
      ]
     },
     "execution_count": 122,
     "metadata": {},
     "output_type": "execute_result"
    }
   ],
   "source": [
    "l[2]"
   ]
  },
  {
   "cell_type": "code",
   "execution_count": 123,
   "id": "97065901",
   "metadata": {},
   "outputs": [
    {
     "data": {
      "text/plain": [
       "90"
      ]
     },
     "execution_count": 123,
     "metadata": {},
     "output_type": "execute_result"
    }
   ],
   "source": [
    "l[2][2]"
   ]
  },
  {
   "cell_type": "code",
   "execution_count": 124,
   "id": "8739bfd0",
   "metadata": {},
   "outputs": [
    {
     "ename": "TypeError",
     "evalue": "'tuple' object does not support item assignment",
     "output_type": "error",
     "traceback": [
      "\u001b[1;31m---------------------------------------------------------------------------\u001b[0m",
      "\u001b[1;31mTypeError\u001b[0m                                 Traceback (most recent call last)",
      "\u001b[1;32m<ipython-input-124-9643ab87f19c>\u001b[0m in \u001b[0;36m<module>\u001b[1;34m\u001b[0m\n\u001b[1;32m----> 1\u001b[1;33m \u001b[0ml\u001b[0m\u001b[1;33m[\u001b[0m\u001b[1;36m2\u001b[0m\u001b[1;33m]\u001b[0m\u001b[1;33m[\u001b[0m\u001b[1;36m2\u001b[0m\u001b[1;33m]\u001b[0m\u001b[1;33m=\u001b[0m\u001b[1;36m100\u001b[0m\u001b[1;33m\u001b[0m\u001b[1;33m\u001b[0m\u001b[0m\n\u001b[0m\u001b[0;32m      2\u001b[0m \u001b[0mprint\u001b[0m\u001b[1;33m(\u001b[0m\u001b[0ml\u001b[0m\u001b[1;33m)\u001b[0m\u001b[1;33m\u001b[0m\u001b[1;33m\u001b[0m\u001b[0m\n",
      "\u001b[1;31mTypeError\u001b[0m: 'tuple' object does not support item assignment"
     ]
    }
   ],
   "source": [
    "l[2][2]=100\n",
    "print(l)"
   ]
  },
  {
   "cell_type": "code",
   "execution_count": 130,
   "id": "259189c8",
   "metadata": {},
   "outputs": [
    {
     "name": "stdout",
     "output_type": "stream",
     "text": [
      "[(10, 20, 100), (40, 50, 100), (70, 80, 100)]\n"
     ]
    }
   ],
   "source": [
    "l = [(10, 20, 40), (40, 50, 60), (70, 80, 90)]\n",
    "\n",
    "print([t[:-1]+(100,) for t in l])\n",
    "    "
   ]
  },
  {
   "cell_type": "code",
   "execution_count": null,
   "id": "defcbf1c",
   "metadata": {},
   "outputs": [],
   "source": []
  }
 ],
 "metadata": {
  "kernelspec": {
   "display_name": "Python 3",
   "language": "python",
   "name": "python3"
  },
  "language_info": {
   "codemirror_mode": {
    "name": "ipython",
    "version": 3
   },
   "file_extension": ".py",
   "mimetype": "text/x-python",
   "name": "python",
   "nbconvert_exporter": "python",
   "pygments_lexer": "ipython3",
   "version": "3.8.8"
  }
 },
 "nbformat": 4,
 "nbformat_minor": 5
}
